{
 "cells": [
  {
   "cell_type": "code",
   "execution_count": 1,
   "id": "35d7a2e6",
   "metadata": {},
   "outputs": [],
   "source": [
    "import pandas as pd\n",
    "\n",
    "df = pd.read_csv('Oregon Hwy 26 Crash Data for 2019.csv')\n",
    "\n",
    "# print(df.head(30))\n",
    "# df.dropna(axis=1,how='all')"
   ]
  },
  {
   "cell_type": "code",
   "execution_count": 2,
   "id": "83254a3a",
   "metadata": {},
   "outputs": [
    {
     "data": {
      "text/plain": [
       "0"
      ]
     },
     "execution_count": 2,
     "metadata": {},
     "output_type": "execute_result"
    }
   ],
   "source": [
    "df.duplicated().sum()"
   ]
  },
  {
   "cell_type": "code",
   "execution_count": 3,
   "id": "d21cb381",
   "metadata": {},
   "outputs": [],
   "source": [
    "CrashesDF = df[df['Record Type'] == 1]\n",
    "VehiclesDF = df[df['Record Type'] == 2]\n",
    "ParticipantsDF = df[df['Record Type'] == 3]"
   ]
  },
  {
   "cell_type": "code",
   "execution_count": 4,
   "id": "db02673f",
   "metadata": {},
   "outputs": [],
   "source": [
    "CrashesDF = CrashesDF.dropna(axis=1,how='all')\n",
    "VehiclesDF = VehiclesDF.dropna(axis=1,how='all')\n",
    "ParticipantsDF = ParticipantsDF.dropna(axis=1,how='all')"
   ]
  },
  {
   "cell_type": "code",
   "execution_count": 5,
   "id": "3a928d4e",
   "metadata": {},
   "outputs": [],
   "source": [
    "# # print(CrashesDF)\n",
    "# print(VehiclesDF)\n",
    "# print(ParticipantsDF)"
   ]
  },
  {
   "cell_type": "markdown",
   "id": "c54e82e6",
   "metadata": {},
   "source": [
    "# Existence assertions:"
   ]
  },
  {
   "cell_type": "code",
   "execution_count": 6,
   "id": "4fd548e9",
   "metadata": {},
   "outputs": [
    {
     "data": {
      "text/plain": [
       "False"
      ]
     },
     "execution_count": 6,
     "metadata": {},
     "output_type": "execute_result"
    }
   ],
   "source": [
    "#1. Every crash occurred on a date\n",
    "\n",
    "CrashesDF[['Crash Month','Crash Day','Crash Year']].isnull().values.any()\n"
   ]
  },
  {
   "cell_type": "code",
   "execution_count": 7,
   "id": "ef7f1308",
   "metadata": {},
   "outputs": [
    {
     "data": {
      "text/plain": [
       "False"
      ]
     },
     "execution_count": 7,
     "metadata": {},
     "output_type": "execute_result"
    }
   ],
   "source": [
    "#2. Every crash has its record id (#serial no) \n",
    "\n",
    "CrashesDF['Serial #'].isnull().values.any()"
   ]
  },
  {
   "cell_type": "code",
   "execution_count": 8,
   "id": "89e3231f",
   "metadata": {},
   "outputs": [
    {
     "data": {
      "text/plain": [
       "False"
      ]
     },
     "execution_count": 8,
     "metadata": {},
     "output_type": "execute_result"
    }
   ],
   "source": [
    "#3. Every crash has its vehicle ID\n",
    "\n",
    "VehiclesDF['Vehicle ID'].isnull().values.any()"
   ]
  },
  {
   "cell_type": "code",
   "execution_count": 9,
   "id": "e5375a5c",
   "metadata": {},
   "outputs": [
    {
     "data": {
      "text/plain": [
       "False"
      ]
     },
     "execution_count": 9,
     "metadata": {},
     "output_type": "execute_result"
    }
   ],
   "source": [
    "#4. Every crash has its participant ID \n",
    "\n",
    "ParticipantsDF['Participant ID'].isnull().values.any()"
   ]
  },
  {
   "cell_type": "code",
   "execution_count": 10,
   "id": "9e510829",
   "metadata": {},
   "outputs": [
    {
     "data": {
      "text/plain": [
       "False"
      ]
     },
     "execution_count": 10,
     "metadata": {},
     "output_type": "execute_result"
    }
   ],
   "source": [
    "#5. Every crash has longitude and latitude value\n",
    "\n",
    "CrashesDF[['Longitude Degrees','Longitude Minutes', \n",
    "           'Longitude Seconds', 'Latitude Degrees', \n",
    "           'Latitude Minutes', 'Latitude Seconds']].isnull().values.any()"
   ]
  },
  {
   "cell_type": "markdown",
   "id": "96c030d9",
   "metadata": {},
   "source": [
    "# Limit assertions:"
   ]
  },
  {
   "cell_type": "code",
   "execution_count": 11,
   "id": "a7a2f5ff",
   "metadata": {},
   "outputs": [
    {
     "data": {
      "text/plain": [
       "True"
      ]
     },
     "execution_count": 11,
     "metadata": {},
     "output_type": "execute_result"
    }
   ],
   "source": [
    "#1. Every crash occurred during year 2019\n",
    "\n",
    "year = 2019\n",
    "CrashesDF['Crash Year'].eq(year).all()"
   ]
  },
  {
   "cell_type": "code",
   "execution_count": 12,
   "id": "1f1096b7",
   "metadata": {},
   "outputs": [
    {
     "data": {
      "text/plain": [
       "True"
      ]
     },
     "execution_count": 12,
     "metadata": {},
     "output_type": "execute_result"
    }
   ],
   "source": [
    "#2. Every crash occured on Highway 26\n",
    "\n",
    "highway_no = 26\n",
    "CrashesDF['Highway Number'].eq(highway_no).all()"
   ]
  },
  {
   "cell_type": "code",
   "execution_count": 13,
   "id": "38379ca8",
   "metadata": {},
   "outputs": [
    {
     "name": "stdout",
     "output_type": "stream",
     "text": [
      "0.0 9.0\n"
     ]
    },
    {
     "data": {
      "text/plain": [
       "array([ 6.,  2., nan,  9.,  0.,  4.,  1.])"
      ]
     },
     "execution_count": 13,
     "metadata": {},
     "output_type": "execute_result"
    }
   ],
   "source": [
    "#3. Every crash participant’s age range between 0 -125\n",
    "\n",
    "min_age = ParticipantsDF['Age'].min()\n",
    "max_age = ParticipantsDF['Age'].max()\n",
    "print(min_age, max_age)\n",
    "\n",
    "ParticipantsDF['Age'].unique()\n",
    "# ParticipantsDF['Age'].describe()"
   ]
  },
  {
   "cell_type": "markdown",
   "id": "ceb06313",
   "metadata": {},
   "source": [
    "# Intra-record assertions:"
   ]
  },
  {
   "cell_type": "code",
   "execution_count": 14,
   "id": "81be0271",
   "metadata": {},
   "outputs": [
    {
     "data": {
      "text/plain": [
       "True"
      ]
     },
     "execution_count": 14,
     "metadata": {},
     "output_type": "execute_result"
    }
   ],
   "source": [
    "#1. If a crash record has a latitude coordinate then it should also have a longitude coordinate\n",
    "\n",
    "CrashesDF[['Longitude Degrees','Longitude Minutes', \n",
    "           'Longitude Seconds', 'Latitude Degrees', \n",
    "           'Latitude Minutes', 'Latitude Seconds']].notnull().values.any()"
   ]
  },
  {
   "cell_type": "code",
   "execution_count": 15,
   "id": "b8a2531d",
   "metadata": {},
   "outputs": [
    {
     "data": {
      "text/plain": [
       "True"
      ]
     },
     "execution_count": 15,
     "metadata": {},
     "output_type": "execute_result"
    }
   ],
   "source": [
    "#2. Every crash has a unique ID\n",
    "\n",
    "CrashesDF['Crash ID'].unique().all()"
   ]
  },
  {
   "cell_type": "code",
   "execution_count": 16,
   "id": "7c8ce684",
   "metadata": {},
   "outputs": [
    {
     "data": {
      "text/plain": [
       "False"
      ]
     },
     "execution_count": 16,
     "metadata": {},
     "output_type": "execute_result"
    }
   ],
   "source": [
    "#3. Every crash id has a serial no\n",
    "\n",
    "CrashesDF[[\"Crash ID\",\"Serial #\"]].isnull().values.any()"
   ]
  },
  {
   "cell_type": "code",
   "execution_count": 17,
   "id": "a029840c",
   "metadata": {},
   "outputs": [
    {
     "data": {
      "text/plain": [
       "True"
      ]
     },
     "execution_count": 17,
     "metadata": {},
     "output_type": "execute_result"
    }
   ],
   "source": [
    "# For Longitude coordinates, minutes and seconds fields \n",
    "# are also populated if the degrees field is populated.\n",
    "\n",
    "CrashesDF[['Longitude Degrees', \n",
    "           'Longitude Minutes', \n",
    "           'Longitude Seconds']].notnull().values.any()"
   ]
  },
  {
   "cell_type": "markdown",
   "id": "cf40863c",
   "metadata": {},
   "source": [
    "# Inter-record check assertions:"
   ]
  },
  {
   "cell_type": "code",
   "execution_count": 18,
   "id": "f0238bff",
   "metadata": {},
   "outputs": [
    {
     "data": {
      "text/plain": [
       "False"
      ]
     },
     "execution_count": 18,
     "metadata": {},
     "output_type": "execute_result"
    }
   ],
   "source": [
    "#1. Every vehicle listed in the crash data was part of a known crash\n",
    "\n",
    "VehiclesDF[['Vehicle ID', 'Crash ID']].isnull().values.all()"
   ]
  },
  {
   "cell_type": "code",
   "execution_count": 19,
   "id": "1a869400",
   "metadata": {},
   "outputs": [
    {
     "data": {
      "text/plain": [
       "Vehicle ID    True\n",
       "dtype: bool"
      ]
     },
     "execution_count": 19,
     "metadata": {},
     "output_type": "execute_result"
    }
   ],
   "source": [
    "#2. Each crash ID has at least one vehicle associated with it\n",
    "\n",
    "VehiclesDF[['Crash ID', 'Vehicle ID']].groupby(['Crash ID']).count().min().eq(1)"
   ]
  },
  {
   "cell_type": "code",
   "execution_count": 20,
   "id": "e850e4e2",
   "metadata": {},
   "outputs": [
    {
     "data": {
      "text/plain": [
       "Participant ID    True\n",
       "dtype: bool"
      ]
     },
     "execution_count": 20,
     "metadata": {},
     "output_type": "execute_result"
    }
   ],
   "source": [
    "#3. Each crash ID has at least one participant \n",
    "\n",
    "ParticipantsDF[['Crash ID', 'Participant ID']].groupby(['Crash ID']).count().min().eq(1)"
   ]
  },
  {
   "cell_type": "code",
   "execution_count": 21,
   "id": "c0334590",
   "metadata": {},
   "outputs": [
    {
     "data": {
      "text/plain": [
       "True"
      ]
     },
     "execution_count": 21,
     "metadata": {},
     "output_type": "execute_result"
    }
   ],
   "source": [
    "#4. Participant ID may or may not be associated with a Vehicle\n",
    "\n",
    "ParticipantsDF[['Vehicle ID', 'Participant ID']].eq(0).values.any()"
   ]
  },
  {
   "cell_type": "markdown",
   "id": "ccae99bc",
   "metadata": {},
   "source": [
    "# Summary Assertions:"
   ]
  },
  {
   "cell_type": "code",
   "execution_count": 22,
   "id": "ec887311",
   "metadata": {},
   "outputs": [
    {
     "data": {
      "text/plain": [
       "508"
      ]
     },
     "execution_count": 22,
     "metadata": {},
     "output_type": "execute_result"
    }
   ],
   "source": [
    "#1. There were thousands of crashes but not millions\n",
    "\n",
    "CrashesDF['Crash ID'].count().max()"
   ]
  },
  {
   "cell_type": "code",
   "execution_count": 23,
   "id": "8329fb87",
   "metadata": {},
   "outputs": [
    {
     "data": {
      "text/plain": [
       "Vehicle ID    False\n",
       "dtype: bool"
      ]
     },
     "execution_count": 23,
     "metadata": {},
     "output_type": "execute_result"
    }
   ],
   "source": [
    "#2. Two or more vehicles are involved in a crash on average\n",
    "\n",
    "# VehiclesDF.groupby(['Crash ID']).count()\n",
    "\n",
    "VehiclesDF_Subset = VehiclesDF[['Crash ID','Vehicle ID']]\n",
    "VehiclesDF_SubsetGroupBy = VehiclesDF_Subset.groupby(['Crash ID']).count()\n",
    "VehiclesDF_SubsetGroupBy.mean().ge(2)"
   ]
  },
  {
   "cell_type": "code",
   "execution_count": 24,
   "id": "af78fe6a",
   "metadata": {},
   "outputs": [
    {
     "data": {
      "text/html": [
       "<div>\n",
       "<style scoped>\n",
       "    .dataframe tbody tr th:only-of-type {\n",
       "        vertical-align: middle;\n",
       "    }\n",
       "\n",
       "    .dataframe tbody tr th {\n",
       "        vertical-align: top;\n",
       "    }\n",
       "\n",
       "    .dataframe thead th {\n",
       "        text-align: right;\n",
       "    }\n",
       "</style>\n",
       "<table border=\"1\" class=\"dataframe\">\n",
       "  <thead>\n",
       "    <tr style=\"text-align: right;\">\n",
       "      <th></th>\n",
       "      <th>Crash ID</th>\n",
       "    </tr>\n",
       "    <tr>\n",
       "      <th>Week Day Code</th>\n",
       "      <th></th>\n",
       "    </tr>\n",
       "  </thead>\n",
       "  <tbody>\n",
       "    <tr>\n",
       "      <th>1.0</th>\n",
       "      <td>60</td>\n",
       "    </tr>\n",
       "    <tr>\n",
       "      <th>2.0</th>\n",
       "      <td>71</td>\n",
       "    </tr>\n",
       "    <tr>\n",
       "      <th>3.0</th>\n",
       "      <td>75</td>\n",
       "    </tr>\n",
       "    <tr>\n",
       "      <th>4.0</th>\n",
       "      <td>74</td>\n",
       "    </tr>\n",
       "    <tr>\n",
       "      <th>5.0</th>\n",
       "      <td>68</td>\n",
       "    </tr>\n",
       "    <tr>\n",
       "      <th>6.0</th>\n",
       "      <td>77</td>\n",
       "    </tr>\n",
       "    <tr>\n",
       "      <th>7.0</th>\n",
       "      <td>83</td>\n",
       "    </tr>\n",
       "  </tbody>\n",
       "</table>\n",
       "</div>"
      ],
      "text/plain": [
       "               Crash ID\n",
       "Week Day Code          \n",
       "1.0                  60\n",
       "2.0                  71\n",
       "3.0                  75\n",
       "4.0                  74\n",
       "5.0                  68\n",
       "6.0                  77\n",
       "7.0                  83"
      ]
     },
     "execution_count": 24,
     "metadata": {},
     "output_type": "execute_result"
    }
   ],
   "source": [
    "#3. The number of crashes tends to be higher in weekdays than weekend \n",
    "\n",
    "CrashesDF[['Crash ID', 'Week Day Code']].groupby(['Week Day Code']).count()\n"
   ]
  },
  {
   "cell_type": "markdown",
   "id": "d31f8f2e",
   "metadata": {},
   "source": [
    "# Statistical distribution assertions:"
   ]
  },
  {
   "cell_type": "code",
   "execution_count": 25,
   "id": "8a43ce61",
   "metadata": {},
   "outputs": [
    {
     "data": {
      "text/html": [
       "<div>\n",
       "<style scoped>\n",
       "    .dataframe tbody tr th:only-of-type {\n",
       "        vertical-align: middle;\n",
       "    }\n",
       "\n",
       "    .dataframe tbody tr th {\n",
       "        vertical-align: top;\n",
       "    }\n",
       "\n",
       "    .dataframe thead th {\n",
       "        text-align: right;\n",
       "    }\n",
       "</style>\n",
       "<table border=\"1\" class=\"dataframe\">\n",
       "  <thead>\n",
       "    <tr style=\"text-align: right;\">\n",
       "      <th></th>\n",
       "      <th>Crash ID</th>\n",
       "    </tr>\n",
       "    <tr>\n",
       "      <th>Crash Month</th>\n",
       "      <th></th>\n",
       "    </tr>\n",
       "  </thead>\n",
       "  <tbody>\n",
       "    <tr>\n",
       "      <th>1.0</th>\n",
       "      <td>56</td>\n",
       "    </tr>\n",
       "    <tr>\n",
       "      <th>2.0</th>\n",
       "      <td>46</td>\n",
       "    </tr>\n",
       "    <tr>\n",
       "      <th>3.0</th>\n",
       "      <td>57</td>\n",
       "    </tr>\n",
       "    <tr>\n",
       "      <th>4.0</th>\n",
       "      <td>53</td>\n",
       "    </tr>\n",
       "    <tr>\n",
       "      <th>5.0</th>\n",
       "      <td>41</td>\n",
       "    </tr>\n",
       "    <tr>\n",
       "      <th>6.0</th>\n",
       "      <td>36</td>\n",
       "    </tr>\n",
       "    <tr>\n",
       "      <th>7.0</th>\n",
       "      <td>37</td>\n",
       "    </tr>\n",
       "    <tr>\n",
       "      <th>8.0</th>\n",
       "      <td>33</td>\n",
       "    </tr>\n",
       "    <tr>\n",
       "      <th>9.0</th>\n",
       "      <td>34</td>\n",
       "    </tr>\n",
       "    <tr>\n",
       "      <th>10.0</th>\n",
       "      <td>36</td>\n",
       "    </tr>\n",
       "    <tr>\n",
       "      <th>11.0</th>\n",
       "      <td>35</td>\n",
       "    </tr>\n",
       "    <tr>\n",
       "      <th>12.0</th>\n",
       "      <td>44</td>\n",
       "    </tr>\n",
       "  </tbody>\n",
       "</table>\n",
       "</div>"
      ],
      "text/plain": [
       "             Crash ID\n",
       "Crash Month          \n",
       "1.0                56\n",
       "2.0                46\n",
       "3.0                57\n",
       "4.0                53\n",
       "5.0                41\n",
       "6.0                36\n",
       "7.0                37\n",
       "8.0                33\n",
       "9.0                34\n",
       "10.0               36\n",
       "11.0               35\n",
       "12.0               44"
      ]
     },
     "execution_count": 25,
     "metadata": {},
     "output_type": "execute_result"
    }
   ],
   "source": [
    "#1. crashes are evenly/uniformly distributed throughout the months of the year\n",
    "\n",
    "CrashesDF[['Crash ID','Crash Month']].groupby(['Crash Month']).count()"
   ]
  },
  {
   "cell_type": "code",
   "execution_count": 26,
   "id": "fa4f7180",
   "metadata": {},
   "outputs": [
    {
     "data": {
      "text/html": [
       "<div>\n",
       "<style scoped>\n",
       "    .dataframe tbody tr th:only-of-type {\n",
       "        vertical-align: middle;\n",
       "    }\n",
       "\n",
       "    .dataframe tbody tr th {\n",
       "        vertical-align: top;\n",
       "    }\n",
       "\n",
       "    .dataframe thead th {\n",
       "        text-align: right;\n",
       "    }\n",
       "</style>\n",
       "<table border=\"1\" class=\"dataframe\">\n",
       "  <thead>\n",
       "    <tr style=\"text-align: right;\">\n",
       "      <th></th>\n",
       "      <th>Crash ID</th>\n",
       "    </tr>\n",
       "    <tr>\n",
       "      <th>Crash Hour</th>\n",
       "      <th></th>\n",
       "    </tr>\n",
       "  </thead>\n",
       "  <tbody>\n",
       "    <tr>\n",
       "      <th>0.0</th>\n",
       "      <td>11</td>\n",
       "    </tr>\n",
       "    <tr>\n",
       "      <th>1.0</th>\n",
       "      <td>5</td>\n",
       "    </tr>\n",
       "    <tr>\n",
       "      <th>2.0</th>\n",
       "      <td>5</td>\n",
       "    </tr>\n",
       "    <tr>\n",
       "      <th>3.0</th>\n",
       "      <td>4</td>\n",
       "    </tr>\n",
       "    <tr>\n",
       "      <th>4.0</th>\n",
       "      <td>2</td>\n",
       "    </tr>\n",
       "    <tr>\n",
       "      <th>5.0</th>\n",
       "      <td>9</td>\n",
       "    </tr>\n",
       "    <tr>\n",
       "      <th>6.0</th>\n",
       "      <td>8</td>\n",
       "    </tr>\n",
       "    <tr>\n",
       "      <th>7.0</th>\n",
       "      <td>19</td>\n",
       "    </tr>\n",
       "    <tr>\n",
       "      <th>8.0</th>\n",
       "      <td>26</td>\n",
       "    </tr>\n",
       "    <tr>\n",
       "      <th>9.0</th>\n",
       "      <td>28</td>\n",
       "    </tr>\n",
       "    <tr>\n",
       "      <th>10.0</th>\n",
       "      <td>23</td>\n",
       "    </tr>\n",
       "    <tr>\n",
       "      <th>11.0</th>\n",
       "      <td>18</td>\n",
       "    </tr>\n",
       "    <tr>\n",
       "      <th>12.0</th>\n",
       "      <td>35</td>\n",
       "    </tr>\n",
       "    <tr>\n",
       "      <th>13.0</th>\n",
       "      <td>29</td>\n",
       "    </tr>\n",
       "    <tr>\n",
       "      <th>14.0</th>\n",
       "      <td>34</td>\n",
       "    </tr>\n",
       "    <tr>\n",
       "      <th>15.0</th>\n",
       "      <td>52</td>\n",
       "    </tr>\n",
       "    <tr>\n",
       "      <th>16.0</th>\n",
       "      <td>38</td>\n",
       "    </tr>\n",
       "    <tr>\n",
       "      <th>17.0</th>\n",
       "      <td>50</td>\n",
       "    </tr>\n",
       "    <tr>\n",
       "      <th>18.0</th>\n",
       "      <td>28</td>\n",
       "    </tr>\n",
       "    <tr>\n",
       "      <th>19.0</th>\n",
       "      <td>23</td>\n",
       "    </tr>\n",
       "    <tr>\n",
       "      <th>20.0</th>\n",
       "      <td>25</td>\n",
       "    </tr>\n",
       "    <tr>\n",
       "      <th>21.0</th>\n",
       "      <td>18</td>\n",
       "    </tr>\n",
       "    <tr>\n",
       "      <th>22.0</th>\n",
       "      <td>7</td>\n",
       "    </tr>\n",
       "    <tr>\n",
       "      <th>23.0</th>\n",
       "      <td>7</td>\n",
       "    </tr>\n",
       "    <tr>\n",
       "      <th>99.0</th>\n",
       "      <td>4</td>\n",
       "    </tr>\n",
       "  </tbody>\n",
       "</table>\n",
       "</div>"
      ],
      "text/plain": [
       "            Crash ID\n",
       "Crash Hour          \n",
       "0.0               11\n",
       "1.0                5\n",
       "2.0                5\n",
       "3.0                4\n",
       "4.0                2\n",
       "5.0                9\n",
       "6.0                8\n",
       "7.0               19\n",
       "8.0               26\n",
       "9.0               28\n",
       "10.0              23\n",
       "11.0              18\n",
       "12.0              35\n",
       "13.0              29\n",
       "14.0              34\n",
       "15.0              52\n",
       "16.0              38\n",
       "17.0              50\n",
       "18.0              28\n",
       "19.0              23\n",
       "20.0              25\n",
       "21.0              18\n",
       "22.0               7\n",
       "23.0               7\n",
       "99.0               4"
      ]
     },
     "execution_count": 26,
     "metadata": {},
     "output_type": "execute_result"
    }
   ],
   "source": [
    "#2. Crashes are uniform throughout the day\n",
    "\n",
    "CrashesDF[['Crash ID','Crash Hour']].groupby(['Crash Hour']).count()"
   ]
  },
  {
   "cell_type": "code",
   "execution_count": 27,
   "id": "0c0ed4d4",
   "metadata": {},
   "outputs": [
    {
     "data": {
      "text/html": [
       "<div>\n",
       "<style scoped>\n",
       "    .dataframe tbody tr th:only-of-type {\n",
       "        vertical-align: middle;\n",
       "    }\n",
       "\n",
       "    .dataframe tbody tr th {\n",
       "        vertical-align: top;\n",
       "    }\n",
       "\n",
       "    .dataframe thead th {\n",
       "        text-align: right;\n",
       "    }\n",
       "</style>\n",
       "<table border=\"1\" class=\"dataframe\">\n",
       "  <thead>\n",
       "    <tr style=\"text-align: right;\">\n",
       "      <th></th>\n",
       "      <th>Crash ID</th>\n",
       "    </tr>\n",
       "    <tr>\n",
       "      <th>Week Day Code</th>\n",
       "      <th></th>\n",
       "    </tr>\n",
       "  </thead>\n",
       "  <tbody>\n",
       "    <tr>\n",
       "      <th>1.0</th>\n",
       "      <td>60</td>\n",
       "    </tr>\n",
       "    <tr>\n",
       "      <th>2.0</th>\n",
       "      <td>71</td>\n",
       "    </tr>\n",
       "    <tr>\n",
       "      <th>3.0</th>\n",
       "      <td>75</td>\n",
       "    </tr>\n",
       "    <tr>\n",
       "      <th>4.0</th>\n",
       "      <td>74</td>\n",
       "    </tr>\n",
       "    <tr>\n",
       "      <th>5.0</th>\n",
       "      <td>68</td>\n",
       "    </tr>\n",
       "    <tr>\n",
       "      <th>6.0</th>\n",
       "      <td>77</td>\n",
       "    </tr>\n",
       "    <tr>\n",
       "      <th>7.0</th>\n",
       "      <td>83</td>\n",
       "    </tr>\n",
       "  </tbody>\n",
       "</table>\n",
       "</div>"
      ],
      "text/plain": [
       "               Crash ID\n",
       "Week Day Code          \n",
       "1.0                  60\n",
       "2.0                  71\n",
       "3.0                  75\n",
       "4.0                  74\n",
       "5.0                  68\n",
       "6.0                  77\n",
       "7.0                  83"
      ]
     },
     "execution_count": 27,
     "metadata": {},
     "output_type": "execute_result"
    }
   ],
   "source": [
    "#3. The number of crashes tends to be higher in weekdays than weekend \n",
    "\n",
    "CrashesDF[['Crash ID', 'Week Day Code']].groupby(['Week Day Code']).count()"
   ]
  },
  {
   "cell_type": "code",
   "execution_count": null,
   "id": "e736fa81",
   "metadata": {},
   "outputs": [],
   "source": []
  },
  {
   "cell_type": "markdown",
   "id": "27d166a5",
   "metadata": {},
   "source": [
    "# Output of the validated data to new files"
   ]
  },
  {
   "cell_type": "code",
   "execution_count": 28,
   "id": "ba0d073d",
   "metadata": {},
   "outputs": [],
   "source": [
    "CrashesDF.to_csv('CrashesData.csv')"
   ]
  },
  {
   "cell_type": "code",
   "execution_count": 29,
   "id": "2d55da35",
   "metadata": {},
   "outputs": [],
   "source": [
    "VehiclesDF.to_csv('VehiclesData.csv')"
   ]
  },
  {
   "cell_type": "code",
   "execution_count": 30,
   "id": "fd861917",
   "metadata": {},
   "outputs": [],
   "source": [
    "ParticipantsDF.to_csv('Participants.csv')"
   ]
  },
  {
   "cell_type": "code",
   "execution_count": null,
   "id": "8c0f83bf",
   "metadata": {},
   "outputs": [],
   "source": []
  }
 ],
 "metadata": {
  "kernelspec": {
   "display_name": "Python 3 (ipykernel)",
   "language": "python",
   "name": "python3"
  },
  "language_info": {
   "codemirror_mode": {
    "name": "ipython",
    "version": 3
   },
   "file_extension": ".py",
   "mimetype": "text/x-python",
   "name": "python",
   "nbconvert_exporter": "python",
   "pygments_lexer": "ipython3",
   "version": "3.9.7"
  }
 },
 "nbformat": 4,
 "nbformat_minor": 5
}
